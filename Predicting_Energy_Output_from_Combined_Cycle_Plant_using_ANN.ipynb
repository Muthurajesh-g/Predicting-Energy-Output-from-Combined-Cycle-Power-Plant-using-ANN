{
  "nbformat": 4,
  "nbformat_minor": 0,
  "metadata": {
    "colab": {
      "name": "Predicting Energy Output from Combined Cycle Plant using ANN.ipynb",
      "provenance": [],
      "collapsed_sections": []
    },
    "kernelspec": {
      "name": "python3",
      "display_name": "Python 3"
    },
    "language_info": {
      "name": "python"
    }
  },
  "cells": [
    {
      "cell_type": "markdown",
      "metadata": {
        "id": "2F93Jrvi-kUB"
      },
      "source": [
        "# **PREDICTING NET HOURLY ELECTRICAL ENERGY OUTPUT (MW) FROM COMBINED CYCLE POWER PLANT USING ARTIFICIAL NEURAL NETWORK (ANN) (REGRESSION)**"
      ]
    },
    {
      "cell_type": "markdown",
      "metadata": {
        "id": "s_oaf5W6-78n"
      },
      "source": [
        "**STEP 1: IMPORTING THE LIBRARIES**"
      ]
    },
    {
      "cell_type": "code",
      "metadata": {
        "id": "B7lX7PMJ-_Fv"
      },
      "source": [
        "import pandas as pd\n",
        "import numpy as np"
      ],
      "execution_count": 1,
      "outputs": []
    },
    {
      "cell_type": "markdown",
      "metadata": {
        "id": "co24WcIN_HD4"
      },
      "source": [
        "**STEP 2: IMPORTING THE DATASET**"
      ]
    },
    {
      "cell_type": "code",
      "metadata": {
        "id": "MjlJVTiG_Rdu"
      },
      "source": [
        "dataset = pd.read_excel('Folds5x2_pp.xlsx')\n",
        "X = dataset.iloc[:, :-1].values\n",
        "y = dataset.iloc[:, -1].values"
      ],
      "execution_count": 2,
      "outputs": []
    },
    {
      "cell_type": "code",
      "metadata": {
        "colab": {
          "base_uri": "https://localhost:8080/"
        },
        "id": "R5PrDmvk_eye",
        "outputId": "e66182a2-b19f-4b0a-bd4d-c0acb3b8f860"
      },
      "source": [
        "print(X)"
      ],
      "execution_count": 3,
      "outputs": [
        {
          "output_type": "stream",
          "text": [
            "[[  14.96   41.76 1024.07   73.17]\n",
            " [  25.18   62.96 1020.04   59.08]\n",
            " [   5.11   39.4  1012.16   92.14]\n",
            " ...\n",
            " [  31.32   74.33 1012.92   36.48]\n",
            " [  24.48   69.45 1013.86   62.39]\n",
            " [  21.6    62.52 1017.23   67.87]]\n"
          ],
          "name": "stdout"
        }
      ]
    },
    {
      "cell_type": "code",
      "metadata": {
        "colab": {
          "base_uri": "https://localhost:8080/"
        },
        "id": "nk6P0pbU_9pB",
        "outputId": "6b50c890-fdb2-4e93-a1f9-bd5e34b70f68"
      },
      "source": [
        "print(y)"
      ],
      "execution_count": 4,
      "outputs": [
        {
          "output_type": "stream",
          "text": [
            "[463.26 444.37 488.56 ... 429.57 435.74 453.28]\n"
          ],
          "name": "stdout"
        }
      ]
    },
    {
      "cell_type": "markdown",
      "metadata": {
        "id": "ywoMQ89rABhA"
      },
      "source": [
        "**STEP 3: BUILDING THE ANN MODEL**"
      ]
    },
    {
      "cell_type": "markdown",
      "metadata": {
        "id": "F-l8IlQ2AJ02"
      },
      "source": [
        "Splitting the dataset into training and test data"
      ]
    },
    {
      "cell_type": "code",
      "metadata": {
        "id": "365jrn5jAN3C"
      },
      "source": [
        "from sklearn.model_selection import train_test_split\n",
        "X_train, X_test, y_train, y_test = train_test_split(X, y, test_size = 0.2, random_state = 0)"
      ],
      "execution_count": 5,
      "outputs": []
    },
    {
      "cell_type": "markdown",
      "metadata": {
        "id": "OrvgNvyFAT8Q"
      },
      "source": [
        "Importing the libraries"
      ]
    },
    {
      "cell_type": "code",
      "metadata": {
        "id": "osQZfHglAZgf"
      },
      "source": [
        "import tensorflow.keras\n",
        "from keras.models import Sequential\n",
        "from keras.layers import Dense"
      ],
      "execution_count": 6,
      "outputs": []
    },
    {
      "cell_type": "markdown",
      "metadata": {
        "id": "PgLw9LDKAd0P"
      },
      "source": [
        "Building the ANN model"
      ]
    },
    {
      "cell_type": "code",
      "metadata": {
        "colab": {
          "base_uri": "https://localhost:8080/"
        },
        "id": "P_Hq4jM6AiKr",
        "outputId": "8e91099d-2a8e-4cd1-8dc2-b314ba328f4d"
      },
      "source": [
        "model = Sequential()\n",
        "model.add(Dense(6, input_dim=4, activation='relu'))\n",
        "model.add(Dense(6, activation='relu'))\n",
        "model.add(Dense(1))\n",
        "model.summary()"
      ],
      "execution_count": 7,
      "outputs": [
        {
          "output_type": "stream",
          "text": [
            "Model: \"sequential\"\n",
            "_________________________________________________________________\n",
            "Layer (type)                 Output Shape              Param #   \n",
            "=================================================================\n",
            "dense (Dense)                (None, 6)                 30        \n",
            "_________________________________________________________________\n",
            "dense_1 (Dense)              (None, 6)                 42        \n",
            "_________________________________________________________________\n",
            "dense_2 (Dense)              (None, 1)                 7         \n",
            "=================================================================\n",
            "Total params: 79\n",
            "Trainable params: 79\n",
            "Non-trainable params: 0\n",
            "_________________________________________________________________\n"
          ],
          "name": "stdout"
        }
      ]
    },
    {
      "cell_type": "markdown",
      "metadata": {
        "id": "ep6igeqSArSC"
      },
      "source": [
        "**STEP 4: TRAINING THE ANN MODEL**"
      ]
    },
    {
      "cell_type": "markdown",
      "metadata": {
        "id": "x99Yz2C3Avcy"
      },
      "source": [
        "Compiling the ANN"
      ]
    },
    {
      "cell_type": "code",
      "metadata": {
        "id": "FSvnhk44A2nH"
      },
      "source": [
        "model.compile(optimizer='adam', loss='mean_squared_error')"
      ],
      "execution_count": 8,
      "outputs": []
    },
    {
      "cell_type": "markdown",
      "metadata": {
        "id": "zBw8s181A6Ch"
      },
      "source": [
        "Training the ANN on the Training set"
      ]
    },
    {
      "cell_type": "code",
      "metadata": {
        "colab": {
          "base_uri": "https://localhost:8080/"
        },
        "id": "rAD_ZKoxBDQf",
        "outputId": "556aedba-8975-4c2f-e540-7eeac27f5d2d"
      },
      "source": [
        "model.fit(X_train, y_train, epochs=100, batch_size=32)"
      ],
      "execution_count": 9,
      "outputs": [
        {
          "output_type": "stream",
          "text": [
            "Epoch 1/100\n",
            "240/240 [==============================] - 1s 1ms/step - loss: 89475.8882\n",
            "Epoch 2/100\n",
            "240/240 [==============================] - 0s 1ms/step - loss: 246.7949\n",
            "Epoch 3/100\n",
            "240/240 [==============================] - 0s 1ms/step - loss: 196.2248\n",
            "Epoch 4/100\n",
            "240/240 [==============================] - 0s 1ms/step - loss: 195.8105\n",
            "Epoch 5/100\n",
            "240/240 [==============================] - 0s 1ms/step - loss: 187.4349\n",
            "Epoch 6/100\n",
            "240/240 [==============================] - 0s 1ms/step - loss: 186.3177\n",
            "Epoch 7/100\n",
            "240/240 [==============================] - 0s 1ms/step - loss: 183.8966\n",
            "Epoch 8/100\n",
            "240/240 [==============================] - 0s 1ms/step - loss: 175.2345\n",
            "Epoch 9/100\n",
            "240/240 [==============================] - 0s 1ms/step - loss: 165.0217\n",
            "Epoch 10/100\n",
            "240/240 [==============================] - 0s 1ms/step - loss: 159.7762\n",
            "Epoch 11/100\n",
            "240/240 [==============================] - 0s 1ms/step - loss: 156.9810\n",
            "Epoch 12/100\n",
            "240/240 [==============================] - 0s 1ms/step - loss: 143.1214\n",
            "Epoch 13/100\n",
            "240/240 [==============================] - 0s 1ms/step - loss: 139.1074\n",
            "Epoch 14/100\n",
            "240/240 [==============================] - 0s 1ms/step - loss: 133.6259\n",
            "Epoch 15/100\n",
            "240/240 [==============================] - 0s 1ms/step - loss: 123.5887\n",
            "Epoch 16/100\n",
            "240/240 [==============================] - 0s 1ms/step - loss: 116.3343\n",
            "Epoch 17/100\n",
            "240/240 [==============================] - 0s 1ms/step - loss: 111.3034\n",
            "Epoch 18/100\n",
            "240/240 [==============================] - 0s 1ms/step - loss: 100.4479\n",
            "Epoch 19/100\n",
            "240/240 [==============================] - 0s 1ms/step - loss: 94.2729\n",
            "Epoch 20/100\n",
            "240/240 [==============================] - 0s 1ms/step - loss: 83.8998\n",
            "Epoch 21/100\n",
            "240/240 [==============================] - 0s 1ms/step - loss: 80.0803\n",
            "Epoch 22/100\n",
            "240/240 [==============================] - 0s 1ms/step - loss: 72.9255\n",
            "Epoch 23/100\n",
            "240/240 [==============================] - 0s 1ms/step - loss: 70.6890\n",
            "Epoch 24/100\n",
            "240/240 [==============================] - 0s 1ms/step - loss: 64.8459\n",
            "Epoch 25/100\n",
            "240/240 [==============================] - 0s 1ms/step - loss: 62.2852\n",
            "Epoch 26/100\n",
            "240/240 [==============================] - 0s 1ms/step - loss: 59.8831\n",
            "Epoch 27/100\n",
            "240/240 [==============================] - 0s 1ms/step - loss: 53.7167\n",
            "Epoch 28/100\n",
            "240/240 [==============================] - 0s 1ms/step - loss: 51.3628\n",
            "Epoch 29/100\n",
            "240/240 [==============================] - 0s 1ms/step - loss: 50.0078\n",
            "Epoch 30/100\n",
            "240/240 [==============================] - 0s 1ms/step - loss: 46.2580\n",
            "Epoch 31/100\n",
            "240/240 [==============================] - 0s 1ms/step - loss: 44.9235\n",
            "Epoch 32/100\n",
            "240/240 [==============================] - 0s 1ms/step - loss: 42.1390\n",
            "Epoch 33/100\n",
            "240/240 [==============================] - 0s 1ms/step - loss: 41.5670\n",
            "Epoch 34/100\n",
            "240/240 [==============================] - 0s 1ms/step - loss: 41.1263\n",
            "Epoch 35/100\n",
            "240/240 [==============================] - 0s 1ms/step - loss: 39.7460\n",
            "Epoch 36/100\n",
            "240/240 [==============================] - 0s 1ms/step - loss: 38.4062\n",
            "Epoch 37/100\n",
            "240/240 [==============================] - 0s 1ms/step - loss: 39.0536\n",
            "Epoch 38/100\n",
            "240/240 [==============================] - 0s 1ms/step - loss: 35.9863\n",
            "Epoch 39/100\n",
            "240/240 [==============================] - 0s 1ms/step - loss: 35.6036\n",
            "Epoch 40/100\n",
            "240/240 [==============================] - 0s 1ms/step - loss: 35.6993\n",
            "Epoch 41/100\n",
            "240/240 [==============================] - 0s 1ms/step - loss: 35.3248\n",
            "Epoch 42/100\n",
            "240/240 [==============================] - 0s 1ms/step - loss: 35.9494\n",
            "Epoch 43/100\n",
            "240/240 [==============================] - 0s 1ms/step - loss: 33.8082\n",
            "Epoch 44/100\n",
            "240/240 [==============================] - 0s 1ms/step - loss: 33.2616\n",
            "Epoch 45/100\n",
            "240/240 [==============================] - 0s 1ms/step - loss: 33.7073\n",
            "Epoch 46/100\n",
            "240/240 [==============================] - 0s 1ms/step - loss: 32.7677\n",
            "Epoch 47/100\n",
            "240/240 [==============================] - 0s 1ms/step - loss: 32.7000\n",
            "Epoch 48/100\n",
            "240/240 [==============================] - 0s 1ms/step - loss: 32.2799\n",
            "Epoch 49/100\n",
            "240/240 [==============================] - 0s 1ms/step - loss: 31.3240\n",
            "Epoch 50/100\n",
            "240/240 [==============================] - 0s 1ms/step - loss: 29.9570\n",
            "Epoch 51/100\n",
            "240/240 [==============================] - 0s 1ms/step - loss: 31.4524\n",
            "Epoch 52/100\n",
            "240/240 [==============================] - 0s 1ms/step - loss: 31.4378\n",
            "Epoch 53/100\n",
            "240/240 [==============================] - 0s 1ms/step - loss: 31.6972\n",
            "Epoch 54/100\n",
            "240/240 [==============================] - 0s 1ms/step - loss: 30.4892\n",
            "Epoch 55/100\n",
            "240/240 [==============================] - 0s 1ms/step - loss: 30.4938\n",
            "Epoch 56/100\n",
            "240/240 [==============================] - 0s 1ms/step - loss: 29.5584\n",
            "Epoch 57/100\n",
            "240/240 [==============================] - 0s 1ms/step - loss: 29.9778\n",
            "Epoch 58/100\n",
            "240/240 [==============================] - 0s 1ms/step - loss: 29.3594\n",
            "Epoch 59/100\n",
            "240/240 [==============================] - 0s 1ms/step - loss: 29.2011\n",
            "Epoch 60/100\n",
            "240/240 [==============================] - 0s 1ms/step - loss: 29.1052\n",
            "Epoch 61/100\n",
            "240/240 [==============================] - 0s 1ms/step - loss: 28.5928\n",
            "Epoch 62/100\n",
            "240/240 [==============================] - 0s 1ms/step - loss: 29.3092\n",
            "Epoch 63/100\n",
            "240/240 [==============================] - 0s 1ms/step - loss: 30.0238\n",
            "Epoch 64/100\n",
            "240/240 [==============================] - 0s 1ms/step - loss: 28.8373\n",
            "Epoch 65/100\n",
            "240/240 [==============================] - 0s 1ms/step - loss: 28.0371\n",
            "Epoch 66/100\n",
            "240/240 [==============================] - 0s 1ms/step - loss: 29.2872\n",
            "Epoch 67/100\n",
            "240/240 [==============================] - 0s 1ms/step - loss: 27.8828\n",
            "Epoch 68/100\n",
            "240/240 [==============================] - 0s 1ms/step - loss: 29.2817\n",
            "Epoch 69/100\n",
            "240/240 [==============================] - 0s 1ms/step - loss: 28.3028\n",
            "Epoch 70/100\n",
            "240/240 [==============================] - 0s 1ms/step - loss: 27.0970\n",
            "Epoch 71/100\n",
            "240/240 [==============================] - 0s 1ms/step - loss: 27.0253\n",
            "Epoch 72/100\n",
            "240/240 [==============================] - 0s 1ms/step - loss: 29.6460\n",
            "Epoch 73/100\n",
            "240/240 [==============================] - 0s 1ms/step - loss: 27.3828\n",
            "Epoch 74/100\n",
            "240/240 [==============================] - 0s 1ms/step - loss: 27.5298\n",
            "Epoch 75/100\n",
            "240/240 [==============================] - 0s 1ms/step - loss: 28.1891\n",
            "Epoch 76/100\n",
            "240/240 [==============================] - 0s 1ms/step - loss: 27.0932\n",
            "Epoch 77/100\n",
            "240/240 [==============================] - 0s 1ms/step - loss: 27.7008\n",
            "Epoch 78/100\n",
            "240/240 [==============================] - 0s 1ms/step - loss: 27.3428\n",
            "Epoch 79/100\n",
            "240/240 [==============================] - 0s 1ms/step - loss: 26.1726\n",
            "Epoch 80/100\n",
            "240/240 [==============================] - 0s 1ms/step - loss: 28.1024\n",
            "Epoch 81/100\n",
            "240/240 [==============================] - 0s 1ms/step - loss: 28.6405\n",
            "Epoch 82/100\n",
            "240/240 [==============================] - 0s 1ms/step - loss: 27.6334\n",
            "Epoch 83/100\n",
            "240/240 [==============================] - 0s 1ms/step - loss: 26.5730\n",
            "Epoch 84/100\n",
            "240/240 [==============================] - 0s 1ms/step - loss: 27.2719\n",
            "Epoch 85/100\n",
            "240/240 [==============================] - 0s 1ms/step - loss: 27.0047\n",
            "Epoch 86/100\n",
            "240/240 [==============================] - 0s 1ms/step - loss: 27.0826\n",
            "Epoch 87/100\n",
            "240/240 [==============================] - 0s 1ms/step - loss: 26.1242\n",
            "Epoch 88/100\n",
            "240/240 [==============================] - 0s 1ms/step - loss: 27.2817\n",
            "Epoch 89/100\n",
            "240/240 [==============================] - 0s 1ms/step - loss: 26.0100\n",
            "Epoch 90/100\n",
            "240/240 [==============================] - 0s 1ms/step - loss: 28.1725\n",
            "Epoch 91/100\n",
            "240/240 [==============================] - 0s 1ms/step - loss: 26.9456\n",
            "Epoch 92/100\n",
            "240/240 [==============================] - 0s 1ms/step - loss: 27.9953\n",
            "Epoch 93/100\n",
            "240/240 [==============================] - 0s 1ms/step - loss: 26.1480\n",
            "Epoch 94/100\n",
            "240/240 [==============================] - 0s 1ms/step - loss: 28.4907\n",
            "Epoch 95/100\n",
            "240/240 [==============================] - 0s 1ms/step - loss: 27.2528\n",
            "Epoch 96/100\n",
            "240/240 [==============================] - 0s 1ms/step - loss: 26.8844\n",
            "Epoch 97/100\n",
            "240/240 [==============================] - 0s 1ms/step - loss: 27.5508\n",
            "Epoch 98/100\n",
            "240/240 [==============================] - 0s 1ms/step - loss: 25.7199\n",
            "Epoch 99/100\n",
            "240/240 [==============================] - 0s 1ms/step - loss: 26.9936\n",
            "Epoch 100/100\n",
            "240/240 [==============================] - 0s 1ms/step - loss: 26.5978\n"
          ],
          "name": "stdout"
        },
        {
          "output_type": "execute_result",
          "data": {
            "text/plain": [
              "<tensorflow.python.keras.callbacks.History at 0x7fe64ad24610>"
            ]
          },
          "metadata": {
            "tags": []
          },
          "execution_count": 9
        }
      ]
    },
    {
      "cell_type": "markdown",
      "metadata": {
        "id": "stCv3aedBFj3"
      },
      "source": [
        "**STEP 5: MAKING PREDICTIONS**"
      ]
    },
    {
      "cell_type": "markdown",
      "metadata": {
        "id": "vY2LHXZABKge"
      },
      "source": [
        "Predicting the results of the Test set"
      ]
    },
    {
      "cell_type": "code",
      "metadata": {
        "colab": {
          "base_uri": "https://localhost:8080/"
        },
        "id": "pIptg2V4BOVA",
        "outputId": "71e0441a-fee2-4427-ab37-c425d48da58b"
      },
      "source": [
        "y_pred = model.predict(X_test)\n",
        "np.set_printoptions(precision=2)\n",
        "print(np.concatenate((y_pred.reshape(len(y_pred),1), y_test.reshape(len(y_test),1)),1))"
      ],
      "execution_count": 10,
      "outputs": [
        {
          "output_type": "stream",
          "text": [
            "[[432.57 431.23]\n",
            " [464.31 460.01]\n",
            " [468.13 461.14]\n",
            " ...\n",
            " [474.79 473.26]\n",
            " [442.55 438.  ]\n",
            " [461.37 463.28]]\n"
          ],
          "name": "stdout"
        }
      ]
    }
  ]
}